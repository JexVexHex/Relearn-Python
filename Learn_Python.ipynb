{
 "cells": [
  {
   "cell_type": "markdown",
   "metadata": {},
   "source": [
    "### A simple age checker for a roller coaster ride in Python\n",
    "\n",
    "### Based on their age, provide different messages:\n",
    "- If the user is between 18 and 45 years old (inclusive), print \"Enjoy the ride! \"\n",
    "- If the user is under 18 years old, print \"You're too young for this ride. \"\n",
    "- If the user is over 45 years old, print \"You're too old for this ride. \""
   ]
  },
  {
   "cell_type": "code",
   "execution_count": null,
   "metadata": {},
   "outputs": [],
   "source": [
    "print(\"Welcome to the Roller Coaster Ride!\")\n",
    "\n",
    "age:int\n",
    "age = input(\"What is your age, BIOTCH!? \")\n",
    "\n",
    "try:\n",
    "    age = int(age)\n",
    "except:\n",
    "    print(\"Invalid age.\")\n",
    "    exit(1)"
   ]
  },
  {
   "cell_type": "code",
   "execution_count": null,
   "metadata": {},
   "outputs": [],
   "source": [
    "if age >= 18 and age <= 45:\n",
    "    print(\"Enjoy the ride!\")\n",
    "elif age < 18:\n",
    "    print(\"You're too young for this ride. Snot nose.\")\n",
    "elif age > 45:\n",
    "    print(\"You're too old for this ride. You coffin dodger.\")\n",
    "else:\n",
    "    print(\"Invalid age.\")"
   ]
  },
  {
   "cell_type": "code",
   "execution_count": null,
   "metadata": {},
   "outputs": [],
   "source": [
    "arr = [1, 2, 3, 4, 5]\n",
    "arr.append(5)\n",
    "arr.append(5)\n",
    "print(arr)\n",
    "\n",
    "arr2 = list(set(arr))\n",
    "\n",
    "print(arr2)"
   ]
  },
  {
   "cell_type": "code",
   "execution_count": null,
   "metadata": {},
   "outputs": [],
   "source": [
    "arr3 = list(map(lambda x: x+1, arr2))\n",
    "print(arr3)"
   ]
  },
  {
   "cell_type": "code",
   "execution_count": null,
   "metadata": {},
   "outputs": [],
   "source": [
    "print(arr[1:3])\n",
    "print(\n",
    "    list(\n",
    "        filter(\n",
    "            lambda x: x % 5,\n",
    "            arr\n",
    "        )\n",
    "    )\n",
    ")"
   ]
  },
  {
   "cell_type": "code",
   "execution_count": null,
   "metadata": {},
   "outputs": [],
   "source": [
    "class Add:\n",
    "    def __init__(self, x):\n",
    "        self.x = x\n",
    "\n",
    "    def __call__(self, y):\n",
    "        return self.x + y\n",
    "\n",
    "add = Add(-5)\n",
    "\n",
    "print(list(map(add, arr)))\n",
    "print([add(x) for x in arr])\n",
    "\n",
    "times_five = lambda x: x * 5\n",
    "print(list(map(times_five, arr)))\n",
    "\n",
    "sum = lambda x, y: x + y\n",
    "from functools import reduce\n",
    "print(reduce(sum, arr))\n"
   ]
  }
 ],
 "metadata": {
  "kernelspec": {
   "display_name": "learn_python",
   "language": "python",
   "name": "python3"
  },
  "language_info": {
   "codemirror_mode": {
    "name": "ipython",
    "version": 3
   },
   "file_extension": ".py",
   "mimetype": "text/x-python",
   "name": "python",
   "nbconvert_exporter": "python",
   "pygments_lexer": "ipython3",
   "version": "3.12.0"
  }
 },
 "nbformat": 4,
 "nbformat_minor": 2
}
