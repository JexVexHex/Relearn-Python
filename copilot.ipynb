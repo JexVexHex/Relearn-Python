{
 "cells": [
  {
   "cell_type": "code",
   "execution_count": null,
   "metadata": {},
   "outputs": [],
   "source": [
    "%pip install python-dotenv\n",
    "%pip install gradio --upgrade"
   ]
  },
  {
   "cell_type": "code",
   "execution_count": 2,
   "metadata": {},
   "outputs": [],
   "source": [
    "import numpy as np\n",
    "import matplotlib.pyplot as pl\n",
    "import gradio as gr"
   ]
  },
  {
   "cell_type": "markdown",
   "metadata": {},
   "source": [
    "#### Gradio interface to OpenAI\n",
    "#### Uses the openai python library\n",
    "#### Remembers the chat context when generating a response\n",
    "#### 1) Load the model\n",
    "#### 2) Load the tokenizer\n",
    "#### 3) Define the function to be used by Gradio\n",
    "#### 4) Define the interface\n",
    "#### 5) The interface has 3 rows: \n",
    "- Row 1 has 100% width and is the hero style logo.\n",
    "- Row 2 has 2 Columns: User input on the left and ChatGPT output on the right\n",
    "- Row 3 is the footer\n",
    "#### 6) Run the interface"
   ]
  },
  {
   "cell_type": "code",
   "execution_count": 4,
   "metadata": {},
   "outputs": [
    {
     "ename": "TypeError",
     "evalue": "'module' object is not callable",
     "output_type": "error",
     "traceback": [
      "\u001b[1;31m---------------------------------------------------------------------------\u001b[0m",
      "\u001b[1;31mTypeError\u001b[0m                                 Traceback (most recent call last)",
      "Cell \u001b[1;32mIn[4], line 15\u001b[0m\n\u001b[0;32m     12\u001b[0m \u001b[38;5;28;01mexcept\u001b[39;00m:\n\u001b[0;32m     13\u001b[0m     exit(\u001b[38;5;124m\"\u001b[39m\u001b[38;5;124mFailed to load OpenAI API key. Check your environment variables.\u001b[39m\u001b[38;5;124m\"\u001b[39m)\n\u001b[1;32m---> 15\u001b[0m openai \u001b[38;5;241m=\u001b[39m \u001b[43mOpenAI\u001b[49m\u001b[43m(\u001b[49m\u001b[43m)\u001b[49m\n\u001b[0;32m     17\u001b[0m \u001b[38;5;66;03m# Define the chat context variable\u001b[39;00m\n\u001b[0;32m     18\u001b[0m chat_context \u001b[38;5;241m=\u001b[39m \u001b[38;5;124m\"\u001b[39m\u001b[38;5;124m\"\u001b[39m\n",
      "\u001b[1;31mTypeError\u001b[0m: 'module' object is not callable"
     ]
    }
   ],
   "source": [
    "import gradio as gr\n",
    "import openai as openai\n",
    "import os\n",
    "from dotenv import load_dotenv\n",
    "\n",
    "# Set up OpenAI API credentials\n",
    "# Read from environment variable or file. Never hardcode your API key!\n",
    "try:\n",
    "    load_dotenv(os.path.join(os.getcwd(), \".env\"))\n",
    "    openai.api_key = os.getenv(\"OPENAI_API_KEY\")\n",
    "    # print(openai.api_key)\n",
    "except:\n",
    "    exit(\"Failed to load OpenAI API key. Check your environment variables.\")\n",
    "\n",
    "\n",
    "# Define the chat context variable\n",
    "chat_context = \"\"\n",
    "\n",
    "# Define the function to be used by Gradio\n",
    "def generate_response(input_text):\n",
    "    global chat_context\n",
    "    \n",
    "    # Combine the input text with the chat context\n",
    "    input_text = chat_context + input_text\n",
    "    \n",
    "    # Generate the response using OpenAI's LLM\n",
    "    response = openai.chat.completions.create(\n",
    "        # model = \"gpt-3.5-turbo\",\n",
    "        model = \"gpt-4-1106-preview\",\n",
    "        messages=[\n",
    "            {\n",
    "            \"role\": \"user\",\n",
    "            \"content\": input_text\n",
    "            }\n",
    "        ],\n",
    "        max_tokens=100,\n",
    "        n=1,\n",
    "        stop=None,\n",
    "        temperature=0.7,\n",
    "    )\n",
    "    \n",
    "    # Get the generated response\n",
    "    response_text = response.choices[0].message.content\n",
    "    \n",
    "    # Update the chat context\n",
    "    chat_context += input_text + \" \" + response_text\n",
    "    \n",
    "    return response_text\n"
   ]
  },
  {
   "cell_type": "code",
   "execution_count": 47,
   "metadata": {},
   "outputs": [
    {
     "name": "stdout",
     "output_type": "stream",
     "text": [
      "Running on local URL:  http://127.0.0.1:7889\n",
      "\n",
      "To create a public link, set `share=True` in `launch()`.\n"
     ]
    },
    {
     "data": {
      "text/html": [
       "<div><iframe src=\"http://127.0.0.1:7889/\" width=\"100%\" height=\"500\" allow=\"autoplay; camera; microphone; clipboard-read; clipboard-write;\" frameborder=\"0\" allowfullscreen></iframe></div>"
      ],
      "text/plain": [
       "<IPython.core.display.HTML object>"
      ]
     },
     "metadata": {},
     "output_type": "display_data"
    },
    {
     "data": {
      "text/plain": []
     },
     "execution_count": 47,
     "metadata": {},
     "output_type": "execute_result"
    }
   ],
   "source": [
    "# Define the Gradio interface\n",
    "from altair import Row\n",
    "\n",
    "\n",
    "logo_svg = \"https://www.example.com/logo_svg.svg\"\n",
    "\n",
    "iface = gr.Interface(\n",
    "    fn=generate_response,\n",
    "    inputs=gr.TextArea(lines=2, label=\"User Input\"),\n",
    "    outputs=gr.TextArea(label=\"LLM Response\"),\n",
    "    title=\"OpenAI LLM Chat\",\n",
    "    description=\"Enter your message and get a response from the LLM.\",\n",
    "    examples=[[\"Hello, how are you?\"]],\n",
    "    allow_flagging=\"auto\"\n",
    ")\n",
    "with gr.Row():\n",
    "    gr.HTML(f\"<div class='logo'/><img src={logo_svg} alt=PrivateGPT></div\")\n",
    "    pass\n",
    "\n",
    "# Run the Gradio interface\n",
    "iface.launch()\n"
   ]
  },
  {
   "cell_type": "markdown",
   "metadata": {},
   "source": []
  }
 ],
 "metadata": {
  "kernelspec": {
   "display_name": "learning",
   "language": "python",
   "name": "python3"
  },
  "language_info": {
   "codemirror_mode": {
    "name": "ipython",
    "version": 3
   },
   "file_extension": ".py",
   "mimetype": "text/x-python",
   "name": "python",
   "nbconvert_exporter": "python",
   "pygments_lexer": "ipython3",
   "version": "3.12.0"
  }
 },
 "nbformat": 4,
 "nbformat_minor": 2
}
